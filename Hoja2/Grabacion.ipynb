{
 "cells": [
  {
   "cell_type": "code",
   "execution_count": 3,
   "metadata": {},
   "outputs": [],
   "source": [
    "import numpy as np\n",
    "import sounddevice as sd\n",
    "import soundfile as sf\n",
    "from kbhit import KBHit\n",
    "\n",
    "SRATE = 4800\n",
    "CHUNK = 1024"
   ]
  },
  {
   "cell_type": "code",
   "execution_count": null,
   "metadata": {},
   "outputs": [],
   "source": [
    "class Osc:\n",
    "    def __init__(self, freq = 440, volume = 1, phase = 0):\n",
    "        self.freq = freq\n",
    "        self.volume = volume\n",
    "        self.phase = phase\n",
    "        self.frame = -0\n",
    "\n",
    "\n",
    "    def next(self):\n",
    "        bloque = np.float32(np.arange(self.frame, self.frame+CHUNK))\n",
    "        self.frame+=CHUNK\n",
    "        bloque = np.sin(self.phase + bloque*2*np.pi*self.freq/SRATE)\n",
    "        bloque*=self.volume\n",
    "        return bloque\n",
    "\n",
    "    def getVolume(self):\n",
    "        return self.volume\n",
    "    def setVolume(self, volume):\n",
    "        self.volume = volume\n",
    "        if self.volume < 0:\n",
    "            self.volume = 0\n",
    "        elif self.volume > 1:\n",
    "            self.volume = 1\n",
    "        \n",
    "    def getFrequency(self):\n",
    "        return self.freq\n",
    "    def setFrequency(self, freq):\n",
    "        self.freq = freq\n"
   ]
  },
  {
   "cell_type": "code",
   "execution_count": null,
   "metadata": {},
   "outputs": [],
   "source": [
    "# abrimos stream de entrada: InpuStream\n",
    "stream = sd.InputStream(samplerate=SRATE, blocksize=CHUNK, dtype=np.float32, channels=1)\n",
    "stream.start()\n",
    "# buffer para grabación.\n",
    "# (0,1): vacio (tamaño 0), 1 canal\n",
    "buffer = np.empty((0, 1), dtype=\"float32\")\n",
    "kb = kbhit.KBHit()\n",
    "c = ''\n",
    "# bucle de grabación\n",
    "while c != 'escape':\n",
    " # recogida de samples en array\n",
    " bloque, _check = stream.read(CHUNK) # devuelve un par (samples,bool)\n",
    " buffer = np.append(buffer,bloque) # en bloque[0] están los samples\n",
    " c = kb.getKey()\n",
    "stream.stop()\n",
    "kb.quit()\n",
    "# reproducción del buffer adquirido\n",
    "c = input('Quieres reproducir [S/n]? ')\n",
    "if c!='n':\n",
    " sd.play(buffer, SRATE)\n",
    " sd.wait()\n",
    "# volcado a un archivo wav, utilizando la librería soundfile\n",
    "c = input('Grabar a archivo [S/n**? ')\n",
    "if c!='n':\n",
    " sf.write(\"rec.wav\", buffer, SRATE)"
   ]
  }
 ],
 "metadata": {
  "kernelspec": {
   "display_name": "Python 3",
   "language": "python",
   "name": "python3"
  },
  "language_info": {
   "codemirror_mode": {
    "name": "ipython",
    "version": 3
   },
   "file_extension": ".py",
   "mimetype": "text/x-python",
   "name": "python",
   "nbconvert_exporter": "python",
   "pygments_lexer": "ipython3",
   "version": "3.12.1"
  }
 },
 "nbformat": 4,
 "nbformat_minor": 2
}
