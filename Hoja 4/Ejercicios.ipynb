{
 "cells": [
  {
   "cell_type": "markdown",
   "metadata": {},
   "source": [
    "##### JOSE MARIA GOMEZ PULIDO    \n",
    "##### EVA SANCHEZ MUÑOZ\n",
    "##### ALVARO VELASCO DIAZ"
   ]
  },
  {
   "cell_type": "code",
   "execution_count": 10,
   "metadata": {},
   "outputs": [
    {
     "name": "stdout",
     "output_type": "stream",
     "text": [
      "Overwriting waveformOsc.py\n"
     ]
    }
   ],
   "source": [
    "%%writefile waveformOsc.py\n",
    "#Ejercicio 1\n",
    "\n",
    "from consts import *\n",
    "import numpy as np         \n",
    "import sounddevice as sd       \n",
    "import matplotlib.pyplot as plt\n",
    "import scipy.signal as signal\n",
    "from osc import *\n",
    "from oscFM import *\n",
    "\n",
    "class WaveformOsc(Osc):\n",
    "    def __init__(self,freq=440.0,amp=1.0,phase=0.0, waveform=\"Sine\"):\n",
    "        Osc(freq,amp,phase)\n",
    "        self.waveform = waveform\n",
    "\n",
    "    def next(self):    \n",
    "        arange = 2*np.pi*np.arange(self.frame,self.frame+CHUNK)*self.freq/SRATE\n",
    "        out = None\n",
    "        if self.waveform == \"Sine\":\n",
    "            out = self.amp*np.sin(arange)\n",
    "        elif self.waveform == \"Square\":\n",
    "            out = self.amp * signal.square(arange)\n",
    "        elif self.waveform == \"Triangle\":\n",
    "            out = self.amp * signal.sawtooth(arange,0.5)\n",
    "        elif self.waveform == \"Sawtooth\":\n",
    "            out = self.amp * signal.sawtooth(arange)\n",
    "        self.frame += CHUNK\n",
    "        return out\n",
    "\n",
    "    def setWaveForm(self, form):\n",
    "        self.waveform = form"
   ]
  },
  {
   "cell_type": "code",
   "execution_count": 11,
   "metadata": {},
   "outputs": [
    {
     "name": "stdout",
     "output_type": "stream",
     "text": [
      "Writing waveformOscFM.py\n"
     ]
    }
   ],
   "source": [
    "%%writefile waveformOscFM.py\n",
    "from consts import *\n",
    "import numpy as np         \n",
    "import sounddevice as sd       \n",
    "import matplotlib.pyplot as plt\n",
    "import scipy.signal as signal\n",
    "from waveformOsc import *\n",
    "from oscFM import *\n",
    "\n",
    "class WaveformOscFM(OscFM):\n",
    "    def __init__(self,fc=110.0,amp=1.0,fm=6.0, beta=1.0, carrier=\"Sine\", mod=\"Sine\"):\n",
    "        OscFM(fc,amp,fm,beta)\n",
    "        # moduladora = βsin(2πfm)\n",
    "        self.carrier = carrier\n",
    "        self.mod = WaveformOsc(freq=fm,amp=beta,waveform=mod)\n",
    "        \n",
    "    def next(self):  \n",
    "        # sin(2πfc+mod)  \n",
    "        # sacamos el siguiente chunk de la moduladora\n",
    "        mod = self.mod.next()\n",
    "\n",
    "        # soporte para el chunk de salida\n",
    "        sample = np.arange(self.frame,self.frame+CHUNK)  \n",
    "        sample = 2*np.pi*self.fc*sample/SRATE +mod     \n",
    "        # aplicamos formula\n",
    "        if self.carrier == \"Sine\":\n",
    "            out =  self.amp*np.sin(sample)\n",
    "        elif self.carrier == \"Square\":\n",
    "            out = self.amp*signal.square(sample)\n",
    "        elif self.carrier == \"Triangle\":\n",
    "            out = self.amp * signal.sawtooth(sample,0.5)\n",
    "        elif self.carrier == \"Sawtooth\":\n",
    "            out = self.amp * signal.sawtooth(sample)\n",
    "        self.frame += CHUNK\n",
    "        return out \n",
    "\n",
    "    def setWaveforms(self, carrier, mod):\n",
    "        self.carrier = carrier\n",
    "        self.mod.setWaveForm(mod)"
   ]
  },
  {
   "cell_type": "code",
   "execution_count": 13,
   "metadata": {},
   "outputs": [
    {
     "name": "stdout",
     "output_type": "stream",
     "text": [
      "Overwriting waveformSynthFM.py\n"
     ]
    }
   ],
   "source": [
    "%%writefile waveformSynthFM.py\n",
    "import numpy as np   \n",
    "import matplotlib.pyplot as plt\n",
    "from consts import *\n",
    "from tkinter import *\n",
    "from adsr import *\n",
    "from waveformOscFM import *\n",
    "from synthFM import *\n",
    "class WaveformSynthFM(SynthFM):\n",
    "    def __init__(self,\n",
    "                fc=110,amp=1.0,ratio=0.5, beta=5.0,   # parámetros del generador FM\n",
    "                attack=0.01,decay=0.02, sustain=0.3,release=1.0, carrier=\"Sine\", mod = \"Sine\"): # parámetros del ADSR   \n",
    "        SynthFM(fc,amp,ratio,beta,attack,decay,sustain,release)     \n",
    "        self.signal = WaveformOscFM(self.fc,self.amp,self.fm,self.beta,carrier,mod) # generador\n",
    "        \n",
    "\n",
    "    def start(self):\n",
    "        self.adsr.start()\n",
    "\n",
    "    # siguiente chunk del generador\n",
    "    def next(self): \n",
    "        out = self.signal.next()*self.adsr.next()\n",
    "        if self.adsr.state=='off': # cuando acaba el adsr por completo (incluido el release)\n",
    "            self.state = 'off'     # el sinte tb acaba de producir señal\n",
    "        return out     \n",
    "    \n",
    "    # el noteOff del sinte activa el release del ADSR\n",
    "    def noteOff(self):\n",
    "        self.adsr.release()\n",
    "\n",
    "    def setAmp(self,val): \n",
    "        self.amp = val \n",
    "\n",
    "    def setFm(self,val): \n",
    "        self.fm = val  \n",
    "\n",
    "    def setBeta(self,val): \n",
    "        self.beta = val\n",
    "\n",
    "    def setFMWaveform(self,carrier,mod):\n",
    "        self.signal.setWaveforms(carrier,mod)"
   ]
  },
  {
   "cell_type": "code",
   "execution_count": 14,
   "metadata": {},
   "outputs": [
    {
     "name": "stdout",
     "output_type": "stream",
     "text": [
      "Writing waveformInstrument.py\n"
     ]
    }
   ],
   "source": [
    "%%writefile waveformInstrument.py\n",
    "from instrument import *\n",
    "from waveformSynthFM import *\n",
    "from tkinter import * \n",
    "\n",
    "class WaveformInstrument(Instrument):\n",
    "    def __init__(self,tk,name=\"FM synthetizer\",amp=0.2,ratio=3,beta=0.6): \n",
    "        Instrument(tk,name,amp,ratio,beta)\n",
    "    \n",
    "    def noteOn(self,midiNote):\n",
    "        # si está el dict de canales reactivamos synt -> reiniciamos adsr del synt\n",
    "        if midiNote in self.channels:       \n",
    "            self.channels[midiNote].start() \n",
    "\n",
    "        # si no está, miramos frecuencia en la tabla de frecuencias\n",
    "        # y generamos un nuevo synth en un canal indexado con notaMidi\n",
    "        # con los parámetros actuales del synth\n",
    "        else:\n",
    "            freq= freqsMidi[midiNote]\n",
    "            self.channels[midiNote]= WaveformSynthFM(\n",
    "                    fc=freq,\n",
    "                    amp=self.ampS.get(), ratio=self.ratioS.get(), beta=self.betaS.get(),\n",
    "                    attack = self.attackS.get(), decay= self.decayS.get(),\n",
    "                    sustain=self.sustainS.get(), release=self.sustainS.get(),carrier=self.carrierCB.get(), mod=self.modCB.get())"
   ]
  }
 ],
 "metadata": {
  "kernelspec": {
   "display_name": "Python 3",
   "language": "python",
   "name": "python3"
  },
  "language_info": {
   "codemirror_mode": {
    "name": "ipython",
    "version": 3
   },
   "file_extension": ".py",
   "mimetype": "text/x-python",
   "name": "python",
   "nbconvert_exporter": "python",
   "pygments_lexer": "ipython3",
   "version": "3.12.2"
  },
  "orig_nbformat": 4
 },
 "nbformat": 4,
 "nbformat_minor": 2
}
