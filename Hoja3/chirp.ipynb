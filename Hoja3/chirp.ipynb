{
 "cells": [
  {
   "cell_type": "code",
   "execution_count": 5,
   "metadata": {},
   "outputs": [],
   "source": [
    "##JOSE MARIA GOMEZ PULIDO\n",
    "##ALVARO VELASCO DIAZ\n",
    "##EVA SANCHEZ MUÑOZ\n",
    "import numpy as np         # arrays    \n",
    "import sounddevice as sd   # modulo de conexión con portAudio\n",
    "import soundfile as sf     # para lectura/escritura de wavs\n",
    "CHUNK = 512\n",
    "SRATE = 48000"
   ]
  },
  {
   "cell_type": "code",
   "execution_count": 39,
   "metadata": {},
   "outputs": [],
   "source": [
    "class Chirp:\n",
    "    def __init__(self, frecIni=410, frecFin=820, dur=200):\n",
    "        self.frec=frecIni\n",
    "        self.frecFin=frecFin\n",
    "        self.dur=dur\n",
    "        self.frame = 0\n",
    "        self.frecPorFrame=(frecFin-frecIni)/dur\n",
    "        \n",
    "    def next(self):\n",
    "        bloque = np.float32(np.arange(self.frame, self.frame+CHUNK))\n",
    "        self.frame+=CHUNK\n",
    "        self.frec+=self.frecPorFrame\n",
    "        if self.frec>self.frecFin:\n",
    "            self.frec=self.frecFin\n",
    "        \n",
    "        bloque = np.sin(bloque*2*np.pi*self.frec/SRATE)\n",
    "        return bloque\n",
    "\n",
    "    def signal(self):\n",
    "        frame=0\n",
    "        stream = sd.OutputStream(samplerate=SRATE, blocksize=CHUNK, channels=1)\n",
    "        stream.start()\n",
    "        while(frame<self.dur):\n",
    "            stream.write(Chirp.next(self))\n",
    "            frame+=1\n",
    "        stream.stop()\n",
    "        stream.close()\n",
    "            \n",
    "\n",
    "\n",
    "\n",
    "\n",
    "\n",
    "chirp = Chirp()\n",
    "chirp.signal()\n",
    "    "
   ]
  }
 ],
 "metadata": {
  "interpreter": {
   "hash": "2be5faf79681da6f2a61fdfdd5405d65d042280f7fba6178067603e3a2925119"
  },
  "kernelspec": {
   "display_name": "Python 3.10.2 64-bit",
   "language": "python",
   "name": "python3"
  },
  "language_info": {
   "codemirror_mode": {
    "name": "ipython",
    "version": 3
   },
   "file_extension": ".py",
   "mimetype": "text/x-python",
   "name": "python",
   "nbconvert_exporter": "python",
   "pygments_lexer": "ipython3",
   "version": "3.10.2"
  },
  "orig_nbformat": 4
 },
 "nbformat": 4,
 "nbformat_minor": 2
}
