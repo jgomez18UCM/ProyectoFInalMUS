{
 "cells": [
  {
   "cell_type": "code",
   "execution_count": 6,
   "metadata": {},
   "outputs": [],
   "source": [
    "##JOSE MARIA GOMEZ PULIDO\n",
    "##ALVARO VELASCO DIAZ\n",
    "##EVA SANCHEZ MUÑOZ\n",
    "import numpy as np         # arrays    \n",
    "import sounddevice as sd   # modulo de conexión con portAudio\n",
    "import soundfile as sf     # para lectura/escritura de wavs"
   ]
  },
  {
   "cell_type": "code",
   "execution_count": 7,
   "metadata": {},
   "outputs": [],
   "source": [
    "from kbhit import KBHit\n",
    "data, SRATE = sf.read('piano.wav', dtype=np.float32)\n",
    "\n",
    "input = KBHit()\n",
    "end = False\n",
    "while not(end):\n",
    "     key = input.getKey()\n",
    "     if key != '':\n",
    "            end = (key=='escape')\n",
    "            if key =='z':\n",
    "                sd.play(data)\n",
    "            if key == 'x':\n",
    "                sd.play(data, SRATE*9/8)\n",
    "            if key == 'c':\n",
    "                sd.play(data, SRATE*5/4)\n",
    "            if key == 'v':\n",
    "                sd.play(data, SRATE*4/3)\n",
    "            if key == 'b':\n",
    "                sd.play(data, SRATE*3/2)\n",
    "            if key == 'n':\n",
    "                sd.play(data, SRATE*5/3)\n",
    "            if key == 'm':\n",
    "                sd.play(data, SRATE*15/8)\n",
    "            if key == 'q':\n",
    "                sd.play(data, SRATE*2)\n",
    "            if key == 'w':\n",
    "                sd.play(data, SRATE*(9/8)*2)\n",
    "            if key == 'e':\n",
    "                sd.play(data, SRATE*(5/4)*2)\n",
    "            if key == 'r':\n",
    "                sd.play(data, SRATE*(4/3)*2)\n",
    "            if key == 't':\n",
    "                sd.play(data, SRATE*(3/2)*2)\n",
    "            if key == 'y':\n",
    "                sd.play(data, SRATE*(5/3)*2)\n",
    "            if key == 'u':\n",
    "                sd.play(data, SRATE*(15/8)*2)\n",
    "input.quit()\n"
   ]
  }
 ],
 "metadata": {
  "interpreter": {
   "hash": "2be5faf79681da6f2a61fdfdd5405d65d042280f7fba6178067603e3a2925119"
  },
  "kernelspec": {
   "display_name": "Python 3.10.2 64-bit",
   "language": "python",
   "name": "python3"
  },
  "language_info": {
   "codemirror_mode": {
    "name": "ipython",
    "version": 3
   },
   "file_extension": ".py",
   "mimetype": "text/x-python",
   "name": "python",
   "nbconvert_exporter": "python",
   "pygments_lexer": "ipython3",
   "version": "3.10.2"
  },
  "orig_nbformat": 4
 },
 "nbformat": 4,
 "nbformat_minor": 2
}
